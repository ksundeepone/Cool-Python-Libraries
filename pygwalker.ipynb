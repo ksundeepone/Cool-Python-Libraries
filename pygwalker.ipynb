{
 "cells": [
  {
   "cell_type": "code",
   "execution_count": 1,
   "id": "5ec32f2b",
   "metadata": {},
   "outputs": [
    {
     "name": "stdout",
     "output_type": "stream",
     "text": [
      "Requirement already satisfied: pygwalker in /Users/sundeep/anaconda3/lib/python3.11/site-packages (0.3.20)\n",
      "Requirement already satisfied: altair>=5.0.0 in /Users/sundeep/anaconda3/lib/python3.11/site-packages (from pygwalker) (5.2.0)\n",
      "Requirement already satisfied: appdirs in /Users/sundeep/anaconda3/lib/python3.11/site-packages (from pygwalker) (1.4.4)\n",
      "Requirement already satisfied: arrow in /Users/sundeep/anaconda3/lib/python3.11/site-packages (from pygwalker) (1.2.3)\n",
      "Requirement already satisfied: astor in /Users/sundeep/anaconda3/lib/python3.11/site-packages (from pygwalker) (0.8.1)\n",
      "Requirement already satisfied: duckdb==0.9.2 in /Users/sundeep/anaconda3/lib/python3.11/site-packages (from pygwalker) (0.9.2)\n",
      "Requirement already satisfied: gw-dsl-parser==0.1.38 in /Users/sundeep/anaconda3/lib/python3.11/site-packages (from pygwalker) (0.1.38)\n",
      "Requirement already satisfied: ipython in /Users/sundeep/anaconda3/lib/python3.11/site-packages (from pygwalker) (8.15.0)\n",
      "Requirement already satisfied: ipywidgets in /Users/sundeep/anaconda3/lib/python3.11/site-packages (from pygwalker) (8.0.4)\n",
      "Requirement already satisfied: jinja2 in /Users/sundeep/anaconda3/lib/python3.11/site-packages (from pygwalker) (3.1.2)\n",
      "Requirement already satisfied: kanaries-track==0.0.3 in /Users/sundeep/anaconda3/lib/python3.11/site-packages (from pygwalker) (0.0.3)\n",
      "Requirement already satisfied: pandas in /Users/sundeep/anaconda3/lib/python3.11/site-packages (from pygwalker) (2.0.3)\n",
      "Requirement already satisfied: psutil in /Users/sundeep/anaconda3/lib/python3.11/site-packages (from pygwalker) (5.9.0)\n",
      "Requirement already satisfied: pyarrow in /Users/sundeep/anaconda3/lib/python3.11/site-packages (from pygwalker) (11.0.0)\n",
      "Requirement already satisfied: pydantic in /Users/sundeep/anaconda3/lib/python3.11/site-packages (from pygwalker) (1.10.8)\n",
      "Requirement already satisfied: pytz in /Users/sundeep/anaconda3/lib/python3.11/site-packages (from pygwalker) (2023.3.post1)\n",
      "Requirement already satisfied: requests in /Users/sundeep/anaconda3/lib/python3.11/site-packages (from pygwalker) (2.31.0)\n",
      "Requirement already satisfied: segment-analytics-python==2.2.3 in /Users/sundeep/anaconda3/lib/python3.11/site-packages (from pygwalker) (2.2.3)\n",
      "Requirement already satisfied: sqlalchemy in /Users/sundeep/anaconda3/lib/python3.11/site-packages (from pygwalker) (1.4.39)\n",
      "Requirement already satisfied: sqlglot>=19.0.0 in /Users/sundeep/anaconda3/lib/python3.11/site-packages (from pygwalker) (20.8.0)\n",
      "Requirement already satisfied: typing-extensions in /Users/sundeep/anaconda3/lib/python3.11/site-packages (from pygwalker) (4.7.1)\n",
      "Requirement already satisfied: wasmtime==12.0.0 in /Users/sundeep/anaconda3/lib/python3.11/site-packages (from gw-dsl-parser==0.1.38->pygwalker) (12.0.0)\n",
      "Requirement already satisfied: backoff==2.2.1 in /Users/sundeep/anaconda3/lib/python3.11/site-packages (from kanaries-track==0.0.3->pygwalker) (2.2.1)\n",
      "Requirement already satisfied: dateutils==0.6.12 in /Users/sundeep/anaconda3/lib/python3.11/site-packages (from kanaries-track==0.0.3->pygwalker) (0.6.12)\n",
      "Requirement already satisfied: charset-normalizer<4,>=2 in /Users/sundeep/anaconda3/lib/python3.11/site-packages (from requests->pygwalker) (2.0.4)\n",
      "Requirement already satisfied: idna<4,>=2.5 in /Users/sundeep/anaconda3/lib/python3.11/site-packages (from requests->pygwalker) (3.4)\n",
      "Requirement already satisfied: urllib3<3,>=1.21.1 in /Users/sundeep/anaconda3/lib/python3.11/site-packages (from requests->pygwalker) (1.26.16)\n",
      "Requirement already satisfied: certifi>=2017.4.17 in /Users/sundeep/anaconda3/lib/python3.11/site-packages (from requests->pygwalker) (2023.11.17)\n",
      "Requirement already satisfied: monotonic~=1.5 in /Users/sundeep/anaconda3/lib/python3.11/site-packages (from segment-analytics-python==2.2.3->pygwalker) (1.6)\n",
      "Requirement already satisfied: python-dateutil~=2.2 in /Users/sundeep/anaconda3/lib/python3.11/site-packages (from segment-analytics-python==2.2.3->pygwalker) (2.8.2)\n",
      "Requirement already satisfied: jsonschema>=3.0 in /Users/sundeep/anaconda3/lib/python3.11/site-packages (from altair>=5.0.0->pygwalker) (4.17.3)\n",
      "Requirement already satisfied: numpy in /Users/sundeep/anaconda3/lib/python3.11/site-packages (from altair>=5.0.0->pygwalker) (1.24.3)\n",
      "Requirement already satisfied: packaging in /Users/sundeep/anaconda3/lib/python3.11/site-packages (from altair>=5.0.0->pygwalker) (23.1)\n",
      "Requirement already satisfied: toolz in /Users/sundeep/anaconda3/lib/python3.11/site-packages (from altair>=5.0.0->pygwalker) (0.12.0)\n",
      "Requirement already satisfied: tzdata>=2022.1 in /Users/sundeep/anaconda3/lib/python3.11/site-packages (from pandas->pygwalker) (2023.3)\n",
      "Requirement already satisfied: backcall in /Users/sundeep/anaconda3/lib/python3.11/site-packages (from ipython->pygwalker) (0.2.0)\n",
      "Requirement already satisfied: decorator in /Users/sundeep/anaconda3/lib/python3.11/site-packages (from ipython->pygwalker) (5.1.1)\n",
      "Requirement already satisfied: jedi>=0.16 in /Users/sundeep/anaconda3/lib/python3.11/site-packages (from ipython->pygwalker) (0.18.1)\n",
      "Requirement already satisfied: matplotlib-inline in /Users/sundeep/anaconda3/lib/python3.11/site-packages (from ipython->pygwalker) (0.1.6)\n",
      "Requirement already satisfied: pickleshare in /Users/sundeep/anaconda3/lib/python3.11/site-packages (from ipython->pygwalker) (0.7.5)\n",
      "Requirement already satisfied: prompt-toolkit!=3.0.37,<3.1.0,>=3.0.30 in /Users/sundeep/anaconda3/lib/python3.11/site-packages (from ipython->pygwalker) (3.0.36)\n",
      "Requirement already satisfied: pygments>=2.4.0 in /Users/sundeep/anaconda3/lib/python3.11/site-packages (from ipython->pygwalker) (2.15.1)\n",
      "Requirement already satisfied: stack-data in /Users/sundeep/anaconda3/lib/python3.11/site-packages (from ipython->pygwalker) (0.2.0)\n",
      "Requirement already satisfied: traitlets>=5 in /Users/sundeep/anaconda3/lib/python3.11/site-packages (from ipython->pygwalker) (5.7.1)\n",
      "Requirement already satisfied: pexpect>4.3 in /Users/sundeep/anaconda3/lib/python3.11/site-packages (from ipython->pygwalker) (4.8.0)\n",
      "Requirement already satisfied: appnope in /Users/sundeep/anaconda3/lib/python3.11/site-packages (from ipython->pygwalker) (0.1.2)\n",
      "Requirement already satisfied: ipykernel>=4.5.1 in /Users/sundeep/anaconda3/lib/python3.11/site-packages (from ipywidgets->pygwalker) (6.25.0)\n",
      "Requirement already satisfied: widgetsnbextension~=4.0 in /Users/sundeep/anaconda3/lib/python3.11/site-packages (from ipywidgets->pygwalker) (4.0.5)\n",
      "Requirement already satisfied: jupyterlab-widgets~=3.0 in /Users/sundeep/anaconda3/lib/python3.11/site-packages (from ipywidgets->pygwalker) (3.0.5)\n",
      "Requirement already satisfied: MarkupSafe>=2.0 in /Users/sundeep/anaconda3/lib/python3.11/site-packages (from jinja2->pygwalker) (2.1.1)\n",
      "Requirement already satisfied: comm>=0.1.1 in /Users/sundeep/anaconda3/lib/python3.11/site-packages (from ipykernel>=4.5.1->ipywidgets->pygwalker) (0.1.2)\n",
      "Requirement already satisfied: debugpy>=1.6.5 in /Users/sundeep/anaconda3/lib/python3.11/site-packages (from ipykernel>=4.5.1->ipywidgets->pygwalker) (1.6.7)\n",
      "Requirement already satisfied: jupyter-client>=6.1.12 in /Users/sundeep/anaconda3/lib/python3.11/site-packages (from ipykernel>=4.5.1->ipywidgets->pygwalker) (7.4.9)\n",
      "Requirement already satisfied: jupyter-core!=5.0.*,>=4.12 in /Users/sundeep/anaconda3/lib/python3.11/site-packages (from ipykernel>=4.5.1->ipywidgets->pygwalker) (5.3.0)\n",
      "Requirement already satisfied: nest-asyncio in /Users/sundeep/anaconda3/lib/python3.11/site-packages (from ipykernel>=4.5.1->ipywidgets->pygwalker) (1.5.6)\n",
      "Requirement already satisfied: pyzmq>=20 in /Users/sundeep/anaconda3/lib/python3.11/site-packages (from ipykernel>=4.5.1->ipywidgets->pygwalker) (23.2.0)\n",
      "Requirement already satisfied: tornado>=6.1 in /Users/sundeep/anaconda3/lib/python3.11/site-packages (from ipykernel>=4.5.1->ipywidgets->pygwalker) (6.3.2)\n",
      "Requirement already satisfied: parso<0.9.0,>=0.8.0 in /Users/sundeep/anaconda3/lib/python3.11/site-packages (from jedi>=0.16->ipython->pygwalker) (0.8.3)\n",
      "Requirement already satisfied: attrs>=17.4.0 in /Users/sundeep/anaconda3/lib/python3.11/site-packages (from jsonschema>=3.0->altair>=5.0.0->pygwalker) (22.1.0)\n",
      "Requirement already satisfied: pyrsistent!=0.17.0,!=0.17.1,!=0.17.2,>=0.14.0 in /Users/sundeep/anaconda3/lib/python3.11/site-packages (from jsonschema>=3.0->altair>=5.0.0->pygwalker) (0.18.0)\n",
      "Requirement already satisfied: ptyprocess>=0.5 in /Users/sundeep/anaconda3/lib/python3.11/site-packages (from pexpect>4.3->ipython->pygwalker) (0.7.0)\n",
      "Requirement already satisfied: wcwidth in /Users/sundeep/anaconda3/lib/python3.11/site-packages (from prompt-toolkit!=3.0.37,<3.1.0,>=3.0.30->ipython->pygwalker) (0.2.5)\n",
      "Requirement already satisfied: six>=1.5 in /Users/sundeep/anaconda3/lib/python3.11/site-packages (from python-dateutil~=2.2->segment-analytics-python==2.2.3->pygwalker) (1.16.0)\n"
     ]
    },
    {
     "name": "stdout",
     "output_type": "stream",
     "text": [
      "Requirement already satisfied: executing in /Users/sundeep/anaconda3/lib/python3.11/site-packages (from stack-data->ipython->pygwalker) (0.8.3)\n",
      "Requirement already satisfied: asttokens in /Users/sundeep/anaconda3/lib/python3.11/site-packages (from stack-data->ipython->pygwalker) (2.0.5)\n",
      "Requirement already satisfied: pure-eval in /Users/sundeep/anaconda3/lib/python3.11/site-packages (from stack-data->ipython->pygwalker) (0.2.2)\n",
      "Requirement already satisfied: entrypoints in /Users/sundeep/anaconda3/lib/python3.11/site-packages (from jupyter-client>=6.1.12->ipykernel>=4.5.1->ipywidgets->pygwalker) (0.4)\n",
      "Requirement already satisfied: platformdirs>=2.5 in /Users/sundeep/anaconda3/lib/python3.11/site-packages (from jupyter-core!=5.0.*,>=4.12->ipykernel>=4.5.1->ipywidgets->pygwalker) (3.10.0)\n",
      "Note: you may need to restart the kernel to use updated packages.\n"
     ]
    }
   ],
   "source": [
    "pip install pygwalker"
   ]
  },
  {
   "cell_type": "code",
   "execution_count": 2,
   "id": "4ad9e7f3",
   "metadata": {},
   "outputs": [],
   "source": [
    "import pandas as pd\n",
    "import pygwalker as pyg"
   ]
  },
  {
   "cell_type": "code",
   "execution_count": 7,
   "id": "2a636577",
   "metadata": {},
   "outputs": [],
   "source": [
    "df = pd.read_csv('/Users/sundeep/Downloads/hour.csv')"
   ]
  },
  {
   "cell_type": "code",
   "execution_count": 8,
   "id": "2b8f3d20",
   "metadata": {},
   "outputs": [
    {
     "data": {
      "application/vnd.jupyter.widget-view+json": {
       "model_id": "83e43bc2e7154f9e9347c0d249ccdb0f",
       "version_major": 2,
       "version_minor": 0
      },
      "text/plain": [
       "Box(children=(HTML(value='<div id=\"ifr-pyg-00060e780e3b3e5dXo7O6snM8zRBD9iP\" style=\"height: auto\">\\n    <head>…"
      ]
     },
     "metadata": {},
     "output_type": "display_data"
    },
    {
     "data": {
      "text/html": [],
      "text/plain": [
       "<IPython.core.display.HTML object>"
      ]
     },
     "metadata": {},
     "output_type": "display_data"
    }
   ],
   "source": [
    "walker = pyg.walk(df)"
   ]
  }
 ],
 "metadata": {
  "kernelspec": {
   "display_name": "Python 3 (ipykernel)",
   "language": "python",
   "name": "python3"
  },
  "language_info": {
   "codemirror_mode": {
    "name": "ipython",
    "version": 3
   },
   "file_extension": ".py",
   "mimetype": "text/x-python",
   "name": "python",
   "nbconvert_exporter": "python",
   "pygments_lexer": "ipython3",
   "version": "3.11.5"
  }
 },
 "nbformat": 4,
 "nbformat_minor": 5
}
